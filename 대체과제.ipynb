{
  "nbformat": 4,
  "nbformat_minor": 0,
  "metadata": {
    "colab": {
      "provenance": [],
      "authorship_tag": "ABX9TyNk0gpX0dWd0lnAH6mmx3sU",
      "include_colab_link": true
    },
    "kernelspec": {
      "name": "python3",
      "display_name": "Python 3"
    },
    "language_info": {
      "name": "python"
    }
  },
  "cells": [
    {
      "cell_type": "markdown",
      "metadata": {
        "id": "view-in-github",
        "colab_type": "text"
      },
      "source": [
        "<a href=\"https://colab.research.google.com/github/ADY0517/Student_Score_Analysis/blob/main/%EB%8C%80%EC%B2%B4%EA%B3%BC%EC%A0%9C.ipynb\" target=\"_parent\"><img src=\"https://colab.research.google.com/assets/colab-badge.svg\" alt=\"Open In Colab\"/></a>"
      ]
    },
    {
      "cell_type": "code",
      "source": [
        "!git clone 'https://github.com/ADY0517/Student_Score_Analysis'"
      ],
      "metadata": {
        "id": "VuafDdwWNy6Y",
        "outputId": "eca5fc31-28d6-4a25-b8e1-99c96023f942",
        "colab": {
          "base_uri": "https://localhost:8080/"
        }
      },
      "execution_count": 75,
      "outputs": [
        {
          "output_type": "stream",
          "name": "stdout",
          "text": [
            "fatal: destination path 'Student_Score_Analysis' already exists and is not an empty directory.\n"
          ]
        }
      ]
    },
    {
      "source": [
        "import pandas as pd\n",
        "from scipy.stats import shapiro\n",
        "\n",
        "# CSV 파일 불러오기\n",
        "data = pd.read_csv('/content/Student_Score_Analysis/student_scores.csv')\n",
        "\n",
        "# 성별로 점수 분리\n",
        "male_scores = data[data['Gender'] == 'Male']['Score']\n",
        "female_scores = data[data['Gender'] == 'Female']['Score']\n",
        "\n",
        "# Shapiro-Wilk 정규성 검정\n",
        "statistic_male, p_value_male = shapiro(male_scores)\n",
        "statistic_female, p_value_female = shapiro(female_scores)\n",
        "\n",
        "print(\"*Shapiro-Wilk Test\")\n",
        "print('Ho: 해당 데이터는 정규분포를 따른다')\n",
        "\n",
        "print('Shapiro-Wilk Test Statistic (Male):', statistic_male)\n",
        "print('p_value (Male):', p_value_male)\n",
        "\n",
        "print('Shapiro-Wilk Test Statistic (Female):', statistic_female)\n",
        "print('p_value (Female):', p_value_female)\n",
        "print('\\n')\n",
        "\n",
        "alpha = 0.05\n",
        "\n",
        "if p_value_male < alpha:\n",
        "    print(\"평균에 통계적으로 유의미한 차이가 있다. (귀무가설 기각)\")\n",
        "else:\n",
        "    print(\"평균에 유의미한 차이가 없다. (귀무가설 채택)\")\n",
        "\n",
        "if p_value_female < alpha:\n",
        "    print(\"평균에 통계적으로 유의미한 차이가 있다. (귀무가설 기각)\")\n",
        "else:\n",
        "    print(\"평균에 유의미한 차이가 없다. (귀무가설 채택)\")"
      ],
      "cell_type": "code",
      "metadata": {
        "id": "IBQ601nvKRa4",
        "outputId": "8f9a6573-b469-4679-8437-f6126df16d1a",
        "colab": {
          "base_uri": "https://localhost:8080/"
        }
      },
      "execution_count": 77,
      "outputs": [
        {
          "output_type": "stream",
          "name": "stdout",
          "text": [
            "*Shapiro-Wilk Test\n",
            "Ho: 해당 데이터는 정규분포를 따른다\n",
            "Shapiro-Wilk Test Statistic (Male): 0.8855356710449139\n",
            "p_value (Male): 0.022282079942299273\n",
            "Shapiro-Wilk Test Statistic (Female): 0.9095626451854791\n",
            "p_value (Female): 0.06252433691248906\n",
            "\n",
            "\n",
            "평균에 통계적으로 유의미한 차이가 있다. (귀무가설 기각)\n",
            "평균에 유의미한 차이가 없다. (귀무가설 채택)\n"
          ]
        }
      ]
    },
    {
      "cell_type": "markdown",
      "source": [
        "나의 **Normality(정규성)에 대한 가설**은 '**해당 데이터는 정규분포를 따른다**' 이다.\n",
        "Shapiro-Wilk Test를 돌려보니 남학생의 Statistic는 0.885, p-value는 0.022이 나왔고 여학생의 Statistic는 0.909, p-value는 0.062이 나왔다.\n",
        "남학생은** p-value < 0.05**이기에 정규분포를 따르지 않는다.\n",
        "여학생은 **p-value > 0.05**이기에 정규분포를 따른다고 볼 수 있다.\n",
        "즉  Normality(정규성)에 대한 가설을 남학생은 **기각**, 여학생은 **채택**한다."
      ],
      "metadata": {
        "id": "bNeFsGTML7m3"
      }
    },
    {
      "cell_type": "code",
      "source": [
        "import pandas as pd\n",
        "from scipy.stats import ttest_ind\n",
        "\n",
        "# CSV 파일 불러오기\n",
        "data = pd.read_csv('/content/Student_Score_Analysis/student_scores.csv')\n",
        "\n",
        "# 성별에 따라 점수 분리\n",
        "male_scores = data[data['Gender'] == 'Male']['Score']\n",
        "female_scores = data[data[\"Gender\"] == 'Female']['Score']\n",
        "\n",
        "\n",
        "# 독립표본 t-검정 (Unpaired Student's t-test)\n",
        "t_statistic, p_value = ttest_ind(male_scores, female_scores)\n",
        "\n",
        "print(\"*Unpaired Student's t-test\")\n",
        "print('Ho: 남학생과 여학생의 평균 점수는 차이가 없다')\n",
        "print('t_statistic:', t_statistic)\n",
        "print('p_value:', p_value)\n",
        "print('\\n')\n",
        "\n",
        "# 해석\n",
        "alpha = 0.05\n",
        "if p_value < alpha:\n",
        "    print(\"평균에 통계적으로 유의미한 차이가 있다. (귀무가설 기각)\")\n",
        "else:\n",
        "    print(\"평균에 유의미한 차이가 없다. (귀무가설 채택)\")"
      ],
      "metadata": {
        "id": "6HMZ6TvW6IDM",
        "outputId": "3e17eacd-0450-477b-dcb7-2d56f6676b52",
        "colab": {
          "base_uri": "https://localhost:8080/"
        }
      },
      "execution_count": 72,
      "outputs": [
        {
          "output_type": "stream",
          "name": "stdout",
          "text": [
            "*Unpaired Student's t-test\n",
            "Ho: 남학생과 여학생의 평균 점수는 차이가 없다\n",
            "t_statistic: 2.047820005905726\n",
            "p_value: 0.04753457856074919\n",
            "\n",
            "\n",
            "평균에 통계적으로 유의미한 차이가 있다. (귀무가설 기각)\n"
          ]
        }
      ]
    },
    {
      "cell_type": "markdown",
      "source": [
        "나의** H0(귀무가설)**은 **'남학생과 여학생의 평균 점수는 차이가 없다'** 이다.\n",
        "Unpaired Student'st-test를 돌려보니 p_value < 0.05로 나왔다.\n",
        "정규성 조건에 관계없이 t-test를 수행한 결과, 두 그룹 간 유의미한 평균 차이 있다.\n",
        "즉 나의 H0(귀무가설)은 **기각**돼야 한다."
      ],
      "metadata": {
        "id": "Vb8tFWutNqk4"
      }
    }
  ]
}