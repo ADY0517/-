{
  "nbformat": 4,
  "nbformat_minor": 0,
  "metadata": {
    "colab": {
      "provenance": [],
      "authorship_tag": "ABX9TyOu0jPEbojBGSnhRNezv2cr",
      "include_colab_link": true
    },
    "kernelspec": {
      "name": "python3",
      "display_name": "Python 3"
    },
    "language_info": {
      "name": "python"
    }
  },
  "cells": [
    {
      "cell_type": "markdown",
      "metadata": {
        "id": "view-in-github",
        "colab_type": "text"
      },
      "source": [
        "<a href=\"https://colab.research.google.com/github/ADY0517/Student_Score_Analysis/blob/main/%EB%8C%80%EC%B2%B4%EA%B3%BC%EC%A0%9C.ipynb\" target=\"_parent\"><img src=\"https://colab.research.google.com/assets/colab-badge.svg\" alt=\"Open In Colab\"/></a>"
      ]
    },
    {
      "cell_type": "code",
      "execution_count": 5,
      "metadata": {
        "colab": {
          "base_uri": "https://localhost:8080/"
        },
        "id": "QYcuVlYmzKpg",
        "outputId": "114da891-bc92-4283-8282-8bf7fa75eee9"
      },
      "outputs": [
        {
          "output_type": "stream",
          "name": "stdout",
          "text": [
            "Cloning into 'Student_Score_Analysis'...\n",
            "remote: Enumerating objects: 17, done.\u001b[K\n",
            "remote: Counting objects: 100% (17/17), done.\u001b[K\n",
            "remote: Compressing objects: 100% (15/15), done.\u001b[K\n",
            "remote: Total 17 (delta 3), reused 0 (delta 0), pack-reused 0 (from 0)\u001b[K\n",
            "Receiving objects: 100% (17/17), 6.99 KiB | 3.49 MiB/s, done.\n",
            "Resolving deltas: 100% (3/3), done.\n",
            "✅ Shapiro-Wilk Test (정규성 검정)\n",
            "남학생: statistic = 0.886, p-value = 0.022\n",
            "여학생: statistic = 0.910, p-value = 0.063\n",
            "\n",
            "✅ Unpaired Student's t-test\n",
            "t-statistic = 2.048, p-value = 0.048\n",
            "➤ 평균에 통계적으로 유의미한 차이가 있다. (귀무가설 기각)\n"
          ]
        }
      ],
      "source": [
        "import pandas as pd\n",
        "\n",
        "!git clone 'https://github.com/ADY0517/Student_Score_Analysis.git'\n",
        "\n",
        "# CSV 파일 불러오기\n",
        "df = pd.read_csv('student_scores.csv')\n",
        "\n",
        "# 성별에 따라 점수 분리\n",
        "male_scores = df[df[\"Gender\"] == \"Male\"][\"Score\"]\n",
        "female_scores = df[df[\"Gender\"] == \"Female\"][\"Score\"]\n",
        "\n",
        "# 정규성 검정 (Shapiro-Wilk Test)\n",
        "shapiro_male = shapiro(male_scores)\n",
        "shapiro_female = shapiro(female_scores)\n",
        "\n",
        "print(\"✅ Shapiro-Wilk Test (정규성 검정)\")\n",
        "print(f\"남학생: statistic = {shapiro_male.statistic:.3f}, p-value = {shapiro_male.pvalue:.3f}\")\n",
        "print(f\"여학생: statistic = {shapiro_female.statistic:.3f}, p-value = {shapiro_female.pvalue:.3f}\")\n",
        "\n",
        "# 독립표본 t-검정 (Unpaired Student's t-test)\n",
        "t_test_result = ttest_ind(male_scores, female_scores)\n",
        "\n",
        "print(\"\\n✅ Unpaired Student's t-test\")\n",
        "print(f\"t-statistic = {t_test_result.statistic:.3f}, p-value = {t_test_result.pvalue:.3f}\")\n",
        "\n",
        "# 해석\n",
        "if t_test_result.pvalue < 0.05:\n",
        "    print(\"➤ 평균에 통계적으로 유의미한 차이가 있다. (귀무가설 기각)\")\n",
        "else:\n",
        "    print(\"➤ 평균에 유의미한 차이가 없다. (귀무가설 채택)\")\n"
      ]
    }
  ]
}