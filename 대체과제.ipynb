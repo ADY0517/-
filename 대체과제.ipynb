{
  "nbformat": 4,
  "nbformat_minor": 0,
  "metadata": {
    "colab": {
      "provenance": [],
      "toc_visible": true,
      "authorship_tag": "ABX9TyMxDim0Ww91i06fnrl9TTdj",
      "include_colab_link": true
    },
    "kernelspec": {
      "name": "python3",
      "display_name": "Python 3"
    },
    "language_info": {
      "name": "python"
    }
  },
  "cells": [
    {
      "cell_type": "markdown",
      "metadata": {
        "id": "view-in-github",
        "colab_type": "text"
      },
      "source": [
        "<a href=\"https://colab.research.google.com/github/ADY0517/-/blob/main/%EB%8C%80%EC%B2%B4%EA%B3%BC%EC%A0%9C.ipynb\" target=\"_parent\"><img src=\"https://colab.research.google.com/assets/colab-badge.svg\" alt=\"Open In Colab\"/></a>"
      ]
    },
    {
      "cell_type": "code",
      "execution_count": null,
      "metadata": {
        "colab": {
          "base_uri": "https://localhost:8080/"
        },
        "id": "QYcuVlYmzKpg",
        "outputId": "c0ba58f3-c2a9-4ece-877a-f8dbf0915854"
      },
      "outputs": [
        {
          "output_type": "stream",
          "name": "stdout",
          "text": [
            "✅ Shapiro-Wilk Test (정규성 검정)\n",
            "남학생: statistic = 0.886, p-value = 0.022\n",
            "여학생: statistic = 0.910, p-value = 0.063\n",
            "\n",
            "✅ Unpaired Student's t-test\n",
            "t-statistic = 2.048, p-value = 0.048\n",
            "➤ 평균에 통계적으로 유의미한 차이가 있습니다. (귀무가설 기각)\n"
          ]
        }
      ],
      "source": [
        "import pandas as pd\n",
        "from scipy.stats import shapiro, ttest_ind\n",
        "\n",
        "# CSV 파일 불러오기\n",
        "df = pd.read_csv('student_scores.csv')\n",
        "\n",
        "# 성별에 따라 점수 분리\n",
        "male_scores = df[df[\"Gender\"] == \"Male\"][\"Score\"]\n",
        "female_scores = df[df[\"Gender\"] == \"Female\"][\"Score\"]\n",
        "\n",
        "# 정규성 검정 (Shapiro-Wilk Test)\n",
        "shapiro_male = shapiro(male_scores)\n",
        "shapiro_female = shapiro(female_scores)\n",
        "\n",
        "print(\"✅ Shapiro-Wilk Test (정규성 검정)\")\n",
        "print(f\"남학생: statistic = {shapiro_male.statistic:.3f}, p-value = {shapiro_male.pvalue:.3f}\")\n",
        "print(f\"여학생: statistic = {shapiro_female.statistic:.3f}, p-value = {shapiro_female.pvalue:.3f}\")\n",
        "\n",
        "# 독립표본 t-검정 (Unpaired Student's t-test)\n",
        "t_test_result = ttest_ind(male_scores, female_scores)\n",
        "\n",
        "print(\"\\n✅ Unpaired Student's t-test\")\n",
        "print(f\"t-statistic = {t_test_result.statistic:.3f}, p-value = {t_test_result.pvalue:.3f}\")\n",
        "\n",
        "# 해석\n",
        "if t_test_result.pvalue < 0.05:\n",
        "    print(\"➤ 평균에 통계적으로 유의미한 차이가 있습니다. (귀무가설 기각)\")\n",
        "else:\n",
        "    print(\"➤ 평균에 유의미한 차이가 없습니다. (귀무가설 채택)\")\n"
      ]
    }
  ]
}